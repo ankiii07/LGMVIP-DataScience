{
 "cells": [
  {
   "cell_type": "markdown",
   "id": "36c1ab44",
   "metadata": {},
   "source": [
    "## NSE-TATAGLOBAL DATASETS"
   ]
  },
  {
   "cell_type": "markdown",
   "id": "45feba3c",
   "metadata": {},
   "source": [
    "## Stock Market Prediction And Forecasting Using Stacked LSTM"
   ]
  },
  {
   "cell_type": "markdown",
   "id": "b750f8ed",
   "metadata": {},
   "source": [
    "# LGMVIP Task-2|| Data Science"
   ]
  },
  {
   "cell_type": "markdown",
   "id": "acc42fd0",
   "metadata": {},
   "source": [
    "### To build the stock price prediction model, we will use the NSE TATA GLOBAL dataset. This is a dataset of Tata Beverages from Tata Global Beverages Limited, National Stock Exchange of India: Tata Global Dataset"
   ]
  },
  {
   "cell_type": "markdown",
   "id": "501b55d1",
   "metadata": {},
   "source": [
    "## Import Libraries"
   ]
  },
  {
   "cell_type": "code",
   "execution_count": 1,
   "id": "b4518f20",
   "metadata": {},
   "outputs": [],
   "source": [
    "import numpy as np \n",
    "import matplotlib.pyplot as plt\n",
    "import seaborn as sns"
   ]
  },
  {
   "cell_type": "code",
   "execution_count": 2,
   "id": "86ee3690",
   "metadata": {},
   "outputs": [],
   "source": [
    "import pandas as pd\n",
    "import io\n",
    "import requests \n",
    "import datetime"
   ]
  },
  {
   "cell_type": "markdown",
   "id": "879b7836",
   "metadata": {},
   "source": [
    "## Import Datasets"
   ]
  },
  {
   "cell_type": "code",
   "execution_count": 3,
   "id": "8c2b5a33",
   "metadata": {},
   "outputs": [],
   "source": [
    "url=\"https://raw.githubusercontent.com/mwitiderrick/stockprice/master/NSE-TATAGLOBAL.csv\"\n",
    "df=pd.read_csv(url)"
   ]
  },
  {
   "cell_type": "code",
   "execution_count": 4,
   "id": "0120bc87",
   "metadata": {},
   "outputs": [
    {
     "data": {
      "text/html": [
       "<div>\n",
       "<style scoped>\n",
       "    .dataframe tbody tr th:only-of-type {\n",
       "        vertical-align: middle;\n",
       "    }\n",
       "\n",
       "    .dataframe tbody tr th {\n",
       "        vertical-align: top;\n",
       "    }\n",
       "\n",
       "    .dataframe thead th {\n",
       "        text-align: right;\n",
       "    }\n",
       "</style>\n",
       "<table border=\"1\" class=\"dataframe\">\n",
       "  <thead>\n",
       "    <tr style=\"text-align: right;\">\n",
       "      <th></th>\n",
       "      <th>Date</th>\n",
       "      <th>Open</th>\n",
       "      <th>High</th>\n",
       "      <th>Low</th>\n",
       "      <th>Last</th>\n",
       "      <th>Close</th>\n",
       "      <th>Total Trade Quantity</th>\n",
       "      <th>Turnover (Lacs)</th>\n",
       "    </tr>\n",
       "  </thead>\n",
       "  <tbody>\n",
       "    <tr>\n",
       "      <th>0</th>\n",
       "      <td>2018-09-28</td>\n",
       "      <td>234.05</td>\n",
       "      <td>235.95</td>\n",
       "      <td>230.20</td>\n",
       "      <td>233.50</td>\n",
       "      <td>233.75</td>\n",
       "      <td>3069914</td>\n",
       "      <td>7162.35</td>\n",
       "    </tr>\n",
       "    <tr>\n",
       "      <th>1</th>\n",
       "      <td>2018-09-27</td>\n",
       "      <td>234.55</td>\n",
       "      <td>236.80</td>\n",
       "      <td>231.10</td>\n",
       "      <td>233.80</td>\n",
       "      <td>233.25</td>\n",
       "      <td>5082859</td>\n",
       "      <td>11859.95</td>\n",
       "    </tr>\n",
       "    <tr>\n",
       "      <th>2</th>\n",
       "      <td>2018-09-26</td>\n",
       "      <td>240.00</td>\n",
       "      <td>240.00</td>\n",
       "      <td>232.50</td>\n",
       "      <td>235.00</td>\n",
       "      <td>234.25</td>\n",
       "      <td>2240909</td>\n",
       "      <td>5248.60</td>\n",
       "    </tr>\n",
       "    <tr>\n",
       "      <th>3</th>\n",
       "      <td>2018-09-25</td>\n",
       "      <td>233.30</td>\n",
       "      <td>236.75</td>\n",
       "      <td>232.00</td>\n",
       "      <td>236.25</td>\n",
       "      <td>236.10</td>\n",
       "      <td>2349368</td>\n",
       "      <td>5503.90</td>\n",
       "    </tr>\n",
       "    <tr>\n",
       "      <th>4</th>\n",
       "      <td>2018-09-24</td>\n",
       "      <td>233.55</td>\n",
       "      <td>239.20</td>\n",
       "      <td>230.75</td>\n",
       "      <td>234.00</td>\n",
       "      <td>233.30</td>\n",
       "      <td>3423509</td>\n",
       "      <td>7999.55</td>\n",
       "    </tr>\n",
       "  </tbody>\n",
       "</table>\n",
       "</div>"
      ],
      "text/plain": [
       "         Date    Open    High     Low    Last   Close  Total Trade Quantity  \\\n",
       "0  2018-09-28  234.05  235.95  230.20  233.50  233.75               3069914   \n",
       "1  2018-09-27  234.55  236.80  231.10  233.80  233.25               5082859   \n",
       "2  2018-09-26  240.00  240.00  232.50  235.00  234.25               2240909   \n",
       "3  2018-09-25  233.30  236.75  232.00  236.25  236.10               2349368   \n",
       "4  2018-09-24  233.55  239.20  230.75  234.00  233.30               3423509   \n",
       "\n",
       "   Turnover (Lacs)  \n",
       "0          7162.35  \n",
       "1         11859.95  \n",
       "2          5248.60  \n",
       "3          5503.90  \n",
       "4          7999.55  "
      ]
     },
     "execution_count": 4,
     "metadata": {},
     "output_type": "execute_result"
    }
   ],
   "source": [
    "df.head()"
   ]
  },
  {
   "cell_type": "code",
   "execution_count": 5,
   "id": "a003914d",
   "metadata": {},
   "outputs": [],
   "source": [
    "df1=df.reset_index()['Open']"
   ]
  },
  {
   "cell_type": "code",
   "execution_count": 6,
   "id": "c9a8434f",
   "metadata": {},
   "outputs": [
    {
     "data": {
      "text/plain": [
       "0       234.05\n",
       "1       234.55\n",
       "2       240.00\n",
       "3       233.30\n",
       "4       233.55\n",
       "         ...  \n",
       "2030    117.60\n",
       "2031    120.10\n",
       "2032    121.80\n",
       "2033    120.30\n",
       "2034    122.10\n",
       "Name: Open, Length: 2035, dtype: float64"
      ]
     },
     "execution_count": 6,
     "metadata": {},
     "output_type": "execute_result"
    }
   ],
   "source": [
    "df1"
   ]
  },
  {
   "cell_type": "code",
   "execution_count": 7,
   "id": "708509b7",
   "metadata": {
    "scrolled": true
   },
   "outputs": [
    {
     "data": {
      "text/plain": [
       "[<matplotlib.lines.Line2D at 0x2d41a8e3d00>]"
      ]
     },
     "execution_count": 7,
     "metadata": {},
     "output_type": "execute_result"
    },
    {
     "data": {
      "image/png": "[encoded data removed]",
      "text/plain": [
       "<Figure size 432x288 with 1 Axes>"
      ]
     },
     "metadata": {
      "needs_background": "light"
     },
     "output_type": "display_data"
    }
   ],
   "source": [
    "plt.plot(df1)"
   ]
  },
  {
   "cell_type": "markdown",
   "id": "5fab43ce",
   "metadata": {},
   "source": [
    "## LSTM are sensitive to the scale of the data. so we apply MinMax scaler"
   ]
  },
  {
   "cell_type": "code",
   "execution_count": 8,
   "id": "4ed49e74",
   "metadata": {},
   "outputs": [],
   "source": [
    "from sklearn.preprocessing import MinMaxScaler\n",
    "scaler=MinMaxScaler(feature_range=(0,1))\n",
    "df1=scaler.fit_transform(np.array(df1).reshape(-1,1))"
   ]
  },
  {
   "cell_type": "code",
   "execution_count": 9,
   "id": "f09e7fa8",
   "metadata": {},
   "outputs": [
    {
     "name": "stdout",
     "output_type": "stream",
     "text": [
      "[[0.6202352 ]\n",
      " [0.62226277]\n",
      " [0.64436334]\n",
      " ...\n",
      " [0.16504461]\n",
      " [0.15896188]\n",
      " [0.16626115]]\n"
     ]
    }
   ],
   "source": [
    "print(df1)"
   ]
  },
  {
   "cell_type": "markdown",
   "id": "e35a09e6",
   "metadata": {},
   "source": [
    "## splitting dataset into train and test split"
   ]
  },
  {
   "cell_type": "code",
   "execution_count": 13,
   "id": "7ce972a8",
   "metadata": {},
   "outputs": [],
   "source": [
    "train_size=int(len(df1)*0.75)\n",
    "test_size=len(df1)-train_size\n",
    "train_data,test_data=df1[0:train_size,:],df1[train_size:len(df1),:1]"
   ]
  },
  {
   "cell_type": "code",
   "execution_count": 14,
   "id": "3d403499",
   "metadata": {},
   "outputs": [
    {
     "data": {
      "text/plain": [
       "(1526, 509)"
      ]
     },
     "execution_count": 14,
     "metadata": {},
     "output_type": "execute_result"
    }
   ],
   "source": [
    "train_size,test_size"
   ]
  },
  {
   "cell_type": "code",
   "execution_count": 15,
   "id": "bec322ef",
   "metadata": {
    "scrolled": true
   },
   "outputs": [
    {
     "data": {
      "text/plain": [
       "(array([[0.6202352 ],\n",
       "        [0.62226277],\n",
       "        [0.64436334],\n",
       "        ...,\n",
       "        [0.18491484],\n",
       "        [0.15774534],\n",
       "        [0.16180049]]),\n",
       " array([[0.15774534],\n",
       "        [0.15774534],\n",
       "        [0.16991079],\n",
       "        [0.13746959],\n",
       "        [0.14963504],\n",
       "        [0.16605839],\n",
       "        [0.15369019],\n",
       "        [0.14152474],\n",
       "        [0.13341444],\n",
       "        [0.13260341],\n",
       "        [0.12368208],\n",
       "        [0.12246553],\n",
       "        [0.13625304],\n",
       "        [0.11719384],\n",
       "        [0.13746959],\n",
       "        [0.15004055],\n",
       "        [0.15308191],\n",
       "        [0.15794809],\n",
       "        [0.15186537],\n",
       "        [0.14557989],\n",
       "        [0.14497161],\n",
       "        [0.14801298],\n",
       "        [0.14476886],\n",
       "        [0.11719384],\n",
       "        [0.11151663],\n",
       "        [0.10563666],\n",
       "        [0.10218978],\n",
       "        [0.09712084],\n",
       "        [0.09691809],\n",
       "        [0.11131387],\n",
       "        [0.10644769],\n",
       "        [0.11111111],\n",
       "        [0.1202352 ],\n",
       "        [0.11922141],\n",
       "        [0.13219789],\n",
       "        [0.10969181],\n",
       "        [0.11232766],\n",
       "        [0.10097324],\n",
       "        [0.09712084],\n",
       "        [0.09326845],\n",
       "        [0.10948905],\n",
       "        [0.10725872],\n",
       "        [0.11719384],\n",
       "        [0.12530414],\n",
       "        [0.10705596],\n",
       "        [0.11516626],\n",
       "        [0.11111111],\n",
       "        [0.10604217],\n",
       "        [0.10786699],\n",
       "        [0.10117599],\n",
       "        [0.10016221],\n",
       "        [0.11293593],\n",
       "        [0.09144363],\n",
       "        [0.08880779],\n",
       "        [0.10908354],\n",
       "        [0.12550689],\n",
       "        [0.1216545 ],\n",
       "        [0.12550689],\n",
       "        [0.14294404],\n",
       "        [0.14882401],\n",
       "        [0.14882401],\n",
       "        [0.15632603],\n",
       "        [0.1459854 ],\n",
       "        [0.15348743],\n",
       "        [0.14152474],\n",
       "        [0.14030819],\n",
       "        [0.14578264],\n",
       "        [0.15227088],\n",
       "        [0.14781022],\n",
       "        [0.17274939],\n",
       "        [0.18207624],\n",
       "        [0.15733982],\n",
       "        [0.15470397],\n",
       "        [0.15186537],\n",
       "        [0.14821573],\n",
       "        [0.16342255],\n",
       "        [0.1540957 ],\n",
       "        [0.13949716],\n",
       "        [0.14760746],\n",
       "        [0.14517437],\n",
       "        [0.15774534],\n",
       "        [0.1431468 ],\n",
       "        [0.12733171],\n",
       "        [0.11131387],\n",
       "        [0.11313869],\n",
       "        [0.12104623],\n",
       "        [0.11739659],\n",
       "        [0.1311841 ],\n",
       "        [0.13746959],\n",
       "        [0.17396594],\n",
       "        [0.13158962],\n",
       "        [0.11313869],\n",
       "        [0.13300892],\n",
       "        [0.14274128],\n",
       "        [0.16180049],\n",
       "        [0.15429846],\n",
       "        [0.14760746],\n",
       "        [0.15369019],\n",
       "        [0.14801298],\n",
       "        [0.13260341],\n",
       "        [0.13807786],\n",
       "        [0.15794809],\n",
       "        [0.16058394],\n",
       "        [0.17497972],\n",
       "        [0.18187348],\n",
       "        [0.16666667],\n",
       "        [0.13240065],\n",
       "        [0.15369019],\n",
       "        [0.16180049],\n",
       "        [0.14557989],\n",
       "        [0.16545012],\n",
       "        [0.15754258],\n",
       "        [0.1636253 ],\n",
       "        [0.15977291],\n",
       "        [0.16382806],\n",
       "        [0.16342255],\n",
       "        [0.15652879],\n",
       "        [0.17011354],\n",
       "        [0.14760746],\n",
       "        [0.12935929],\n",
       "        [0.14233577],\n",
       "        [0.15774534],\n",
       "        [0.11719384],\n",
       "        [0.11800487],\n",
       "        [0.14152474],\n",
       "        [0.08475264],\n",
       "        [0.06853204],\n",
       "        [0.05636659],\n",
       "        [0.05028386],\n",
       "        [0.04480941],\n",
       "        [0.04825629],\n",
       "        [0.05454177],\n",
       "        [0.0553528 ],\n",
       "        [0.06447689],\n",
       "        [0.07643958],\n",
       "        [0.01987024],\n",
       "        [0.05190592],\n",
       "        [0.04805353],\n",
       "        [0.05494728],\n",
       "        [0.04927007],\n",
       "        [0.05231144],\n",
       "        [0.05231144],\n",
       "        [0.04622871],\n",
       "        [0.05636659],\n",
       "        [0.05616383],\n",
       "        [0.04339011],\n",
       "        [0.03994323],\n",
       "        [0.04014599],\n",
       "        [0.02331711],\n",
       "        [0.02798054],\n",
       "        [0.0324412 ],\n",
       "        [0.03183293],\n",
       "        [0.03974047],\n",
       "        [0.01987024],\n",
       "        [0.02392539],\n",
       "        [0.01662612],\n",
       "        [0.02027575],\n",
       "        [0.03527981],\n",
       "        [0.02189781],\n",
       "        [0.0296026 ],\n",
       "        [0.02128954],\n",
       "        [0.03669911],\n",
       "        [0.0310219 ],\n",
       "        [0.03953771],\n",
       "        [0.04014599],\n",
       "        [0.04298459],\n",
       "        [0.03041363],\n",
       "        [0.01804542],\n",
       "        [0.01155718],\n",
       "        [0.01175994],\n",
       "        [0.00466342],\n",
       "        [0.0052717 ],\n",
       "        [0.        ],\n",
       "        [0.00608273],\n",
       "        [0.00405515],\n",
       "        [0.00567721],\n",
       "        [0.00446067],\n",
       "        [0.01175994],\n",
       "        [0.01946472],\n",
       "        [0.02473642],\n",
       "        [0.03284672],\n",
       "        [0.03345499],\n",
       "        [0.04176805],\n",
       "        [0.0405515 ],\n",
       "        [0.04257908],\n",
       "        [0.0405515 ],\n",
       "        [0.04014599],\n",
       "        [0.04318735],\n",
       "        [0.04136253],\n",
       "        [0.03203569],\n",
       "        [0.02392539],\n",
       "        [0.01824818],\n",
       "        [0.01987024],\n",
       "        [0.01784266],\n",
       "        [0.02372263],\n",
       "        [0.03081914],\n",
       "        [0.03609084],\n",
       "        [0.02879157],\n",
       "        [0.02189781],\n",
       "        [0.02919708],\n",
       "        [0.01987024],\n",
       "        [0.02047851],\n",
       "        [0.00851582],\n",
       "        [0.00587997],\n",
       "        [0.00973236],\n",
       "        [0.013382  ],\n",
       "        [0.01784266],\n",
       "        [0.01520681],\n",
       "        [0.02270884],\n",
       "        [0.03264396],\n",
       "        [0.02676399],\n",
       "        [0.02392539],\n",
       "        [0.0148013 ],\n",
       "        [0.04217356],\n",
       "        [0.04257908],\n",
       "        [0.03892944],\n",
       "        [0.03649635],\n",
       "        [0.04906732],\n",
       "        [0.04622871],\n",
       "        [0.04115977],\n",
       "        [0.04379562],\n",
       "        [0.04420114],\n",
       "        [0.05616383],\n",
       "        [0.05515004],\n",
       "        [0.05636659],\n",
       "        [0.0405515 ],\n",
       "        [0.04521492],\n",
       "        [0.05352798],\n",
       "        [0.05636659],\n",
       "        [0.03994323],\n",
       "        [0.04927007],\n",
       "        [0.04379562],\n",
       "        [0.04744526],\n",
       "        [0.04420114],\n",
       "        [0.03122466],\n",
       "        [0.02007299],\n",
       "        [0.06042174],\n",
       "        [0.06893755],\n",
       "        [0.09184915],\n",
       "        [0.09164639],\n",
       "        [0.10077048],\n",
       "        [0.09610706],\n",
       "        [0.08678021],\n",
       "        [0.08880779],\n",
       "        [0.10948905],\n",
       "        [0.1107056 ],\n",
       "        [0.09164639],\n",
       "        [0.09935118],\n",
       "        [0.10989457],\n",
       "        [0.10827251],\n",
       "        [0.1054339 ],\n",
       "        [0.10056772],\n",
       "        [0.10056772],\n",
       "        [0.09083536],\n",
       "        [0.07765612],\n",
       "        [0.08049473],\n",
       "        [0.08880779],\n",
       "        [0.08941606],\n",
       "        [0.08069749],\n",
       "        [0.09042985],\n",
       "        [0.07866991],\n",
       "        [0.08069749],\n",
       "        [0.09691809],\n",
       "        [0.07704785],\n",
       "        [0.09610706],\n",
       "        [0.09266018],\n",
       "        [0.08982157],\n",
       "        [0.09975669],\n",
       "        [0.07177616],\n",
       "        [0.06853204],\n",
       "        [0.04987835],\n",
       "        [0.05109489],\n",
       "        [0.04805353],\n",
       "        [0.04034874],\n",
       "        [0.04217356],\n",
       "        [0.03730738],\n",
       "        [0.05109489],\n",
       "        [0.05433901],\n",
       "        [0.07137064],\n",
       "        [0.0648824 ],\n",
       "        [0.06812652],\n",
       "        [0.07643958],\n",
       "        [0.08008921],\n",
       "        [0.06042174],\n",
       "        [0.06407137],\n",
       "        [0.07177616],\n",
       "        [0.05961071],\n",
       "        [0.05231144],\n",
       "        [0.04541768],\n",
       "        [0.05231144],\n",
       "        [0.04257908],\n",
       "        [0.02798054],\n",
       "        [0.02696675],\n",
       "        [0.03041363],\n",
       "        [0.01885645],\n",
       "        [0.03000811],\n",
       "        [0.04480941],\n",
       "        [0.06103001],\n",
       "        [0.06650446],\n",
       "        [0.06123277],\n",
       "        [0.06427413],\n",
       "        [0.06650446],\n",
       "        [0.06549067],\n",
       "        [0.07319546],\n",
       "        [0.06853204],\n",
       "        [0.07988646],\n",
       "        [0.07887267],\n",
       "        [0.06853204],\n",
       "        [0.06914031],\n",
       "        [0.06812652],\n",
       "        [0.06812652],\n",
       "        [0.07583131],\n",
       "        [0.07684509],\n",
       "        [0.08069749],\n",
       "        [0.08759124],\n",
       "        [0.09610706],\n",
       "        [0.09894566],\n",
       "        [0.08657745],\n",
       "        [0.08860503],\n",
       "        [0.08272506],\n",
       "        [0.08475264],\n",
       "        [0.07866991],\n",
       "        [0.09083536],\n",
       "        [0.09083536],\n",
       "        [0.08373885],\n",
       "        [0.09549878],\n",
       "        [0.11415247],\n",
       "        [0.10644769],\n",
       "        [0.1040146 ],\n",
       "        [0.10421736],\n",
       "        [0.08069749],\n",
       "        [0.06751825],\n",
       "        [0.0663017 ],\n",
       "        [0.06650446],\n",
       "        [0.07055961],\n",
       "        [0.06934307],\n",
       "        [0.07542579],\n",
       "        [0.06853204],\n",
       "        [0.06873479],\n",
       "        [0.06954582],\n",
       "        [0.07137064],\n",
       "        [0.06934307],\n",
       "        [0.06853204],\n",
       "        [0.07258719],\n",
       "        [0.07542579],\n",
       "        [0.08718573],\n",
       "        [0.06082725],\n",
       "        [0.06001622],\n",
       "        [0.0553528 ],\n",
       "        [0.03203569],\n",
       "        [0.03609084],\n",
       "        [0.03730738],\n",
       "        [0.04014599],\n",
       "        [0.03527981],\n",
       "        [0.02798054],\n",
       "        [0.03000811],\n",
       "        [0.05879968],\n",
       "        [0.06326034],\n",
       "        [0.06042174],\n",
       "        [0.05798865],\n",
       "        [0.08272506],\n",
       "        [0.05961071],\n",
       "        [0.05981346],\n",
       "        [0.05778589],\n",
       "        [0.04602595],\n",
       "        [0.0310219 ],\n",
       "        [0.02879157],\n",
       "        [0.04825629],\n",
       "        [0.06042174],\n",
       "        [0.06731549],\n",
       "        [0.06244931],\n",
       "        [0.06650446],\n",
       "        [0.07177616],\n",
       "        [0.08069749],\n",
       "        [0.07319546],\n",
       "        [0.10097324],\n",
       "        [0.10178427],\n",
       "        [0.10502839],\n",
       "        [0.09529603],\n",
       "        [0.10097324],\n",
       "        [0.0973236 ],\n",
       "        [0.09712084],\n",
       "        [0.10016221],\n",
       "        [0.09813463],\n",
       "        [0.0973236 ],\n",
       "        [0.09205191],\n",
       "        [0.08759124],\n",
       "        [0.09509327],\n",
       "        [0.11192214],\n",
       "        [0.12570965],\n",
       "        [0.12895377],\n",
       "        [0.13037307],\n",
       "        [0.12489862],\n",
       "        [0.11313869],\n",
       "        [0.11111111],\n",
       "        [0.11922141],\n",
       "        [0.11901865],\n",
       "        [0.12043796],\n",
       "        [0.12935929],\n",
       "        [0.12854826],\n",
       "        [0.13341444],\n",
       "        [0.14476886],\n",
       "        [0.14537713],\n",
       "        [0.13746959],\n",
       "        [0.13665856],\n",
       "        [0.13665856],\n",
       "        [0.1311841 ],\n",
       "        [0.13341444],\n",
       "        [0.12327656],\n",
       "        [0.14111922],\n",
       "        [0.13746959],\n",
       "        [0.13990268],\n",
       "        [0.13017032],\n",
       "        [0.14152474],\n",
       "        [0.14111922],\n",
       "        [0.13138686],\n",
       "        [0.12915653],\n",
       "        [0.13098135],\n",
       "        [0.1269262 ],\n",
       "        [0.15166261],\n",
       "        [0.15004055],\n",
       "        [0.14193025],\n",
       "        [0.16017843],\n",
       "        [0.15693431],\n",
       "        [0.16504461],\n",
       "        [0.1770073 ],\n",
       "        [0.18146796],\n",
       "        [0.18815896],\n",
       "        [0.20924574],\n",
       "        [0.19424169],\n",
       "        [0.18106245],\n",
       "        [0.18207624],\n",
       "        [0.1960665 ],\n",
       "        [0.17680454],\n",
       "        [0.18207624],\n",
       "        [0.18004866],\n",
       "        [0.18207624],\n",
       "        [0.18876723],\n",
       "        [0.19383617],\n",
       "        [0.19099757],\n",
       "        [0.19505272],\n",
       "        [0.19809408],\n",
       "        [0.20640714],\n",
       "        [0.19748581],\n",
       "        [0.19525547],\n",
       "        [0.20437956],\n",
       "        [0.19870235],\n",
       "        [0.21796431],\n",
       "        [0.21553122],\n",
       "        [0.20600162],\n",
       "        [0.21654501],\n",
       "        [0.21654501],\n",
       "        [0.2175588 ],\n",
       "        [0.19870235],\n",
       "        [0.19018654],\n",
       "        [0.17802109],\n",
       "        [0.175588  ],\n",
       "        [0.16301703],\n",
       "        [0.16707218],\n",
       "        [0.17112733],\n",
       "        [0.17639903],\n",
       "        [0.18349554],\n",
       "        [0.1717356 ],\n",
       "        [0.16423358],\n",
       "        [0.16991079],\n",
       "        [0.17619627],\n",
       "        [0.16788321],\n",
       "        [0.16909976],\n",
       "        [0.17396594],\n",
       "        [0.17741281],\n",
       "        [0.18268451],\n",
       "        [0.19221411],\n",
       "        [0.18896999],\n",
       "        [0.19018654],\n",
       "        [0.17396594],\n",
       "        [0.17092457],\n",
       "        [0.16788321],\n",
       "        [0.17477697],\n",
       "        [0.16443633],\n",
       "        [0.14557989],\n",
       "        [0.15287916],\n",
       "        [0.15369019],\n",
       "        [0.15044607],\n",
       "        [0.14152474],\n",
       "        [0.15145985],\n",
       "        [0.13341444],\n",
       "        [0.12530414],\n",
       "        [0.11719384],\n",
       "        [0.11780211],\n",
       "        [0.12489862],\n",
       "        [0.14132198],\n",
       "        [0.13098135],\n",
       "        [0.12935929],\n",
       "        [0.13240065],\n",
       "        [0.12895377],\n",
       "        [0.12530414],\n",
       "        [0.13381995],\n",
       "        [0.14557989],\n",
       "        [0.15166261],\n",
       "        [0.15085158],\n",
       "        [0.14679643],\n",
       "        [0.14355231],\n",
       "        [0.12733171],\n",
       "        [0.14963504],\n",
       "        [0.14801298],\n",
       "        [0.15815085],\n",
       "        [0.16504461],\n",
       "        [0.15896188],\n",
       "        [0.16626115]]))"
      ]
     },
     "execution_count": 15,
     "metadata": {},
     "output_type": "execute_result"
    }
   ],
   "source": [
    "train_data,test_data"
   ]
  },
  {
   "cell_type": "markdown",
   "id": "3e1db124",
   "metadata": {},
   "source": [
    "## convert an array of values into a dataset matrix"
   ]
  },
  {
   "cell_type": "code",
   "execution_count": 16,
   "id": "e7e87e00",
   "metadata": {},
   "outputs": [],
   "source": [
    "def create_dataset(dataset, time_step=1):\n",
    "    train_X, train_Y = [], []\n",
    "    for i in range(len(dataset)-time_step-1):\n",
    "        a = dataset[i:(i+time_step), 0]   ###i=0, 0,1,2,3-----99   100 \n",
    "        train_X.append(a)\n",
    "        train_Y.append(dataset[i + time_step, 0])\n",
    "    return numpy.array(train_X), numpy.array(train_Y)"
   ]
  },
  {
   "cell_type": "markdown",
   "id": "8cac92dd",
   "metadata": {},
   "source": [
    "### reshape into X=t,t+1,t+2,t+3 and Y=t+4"
   ]
  },
  {
   "cell_type": "code",
   "execution_count": 19,
   "id": "c515d4c2",
   "metadata": {},
   "outputs": [],
   "source": [
    "import numpy\n",
    "time_step = 100\n",
    "X_train, y_train = create_dataset(train_data, time_step)\n",
    "X_test, ytest = create_dataset(test_data, time_step)"
   ]
  },
  {
   "cell_type": "code",
   "execution_count": 20,
   "id": "5d44d855",
   "metadata": {},
   "outputs": [
    {
     "name": "stdout",
     "output_type": "stream",
     "text": [
      "(1425, 100)\n",
      "(1425,)\n"
     ]
    },
    {
     "data": {
      "text/plain": [
       "(None, None)"
      ]
     },
     "execution_count": 20,
     "metadata": {},
     "output_type": "execute_result"
    }
   ],
   "source": [
    "print(X_train.shape), print(y_train.shape)"
   ]
  },
  {
   "cell_type": "markdown",
   "id": "c5c37061",
   "metadata": {},
   "source": [
    "## reshape input to be [samples, time steps, features] which is required for LSTM"
   ]
  },
  {
   "cell_type": "code",
   "execution_count": 21,
   "id": "9e4f3b31",
   "metadata": {},
   "outputs": [],
   "source": [
    "X_train =X_train.reshape(X_train.shape[0],X_train.shape[1] , 1)\n",
    "X_test = X_test.reshape(X_test.shape[0],X_test.shape[1] , 1)"
   ]
  },
  {
   "cell_type": "markdown",
   "id": "24b626a8",
   "metadata": {},
   "source": [
    "## Create the Stacked LSTM model"
   ]
  },
  {
   "cell_type": "code",
   "execution_count": 22,
   "id": "b2817d5f",
   "metadata": {},
   "outputs": [],
   "source": [
    "from tensorflow.keras.models import Sequential\n",
    "from tensorflow.keras.layers import Dense\n",
    "from tensorflow.keras.layers import LSTM"
   ]
  },
  {
   "cell_type": "code",
   "execution_count": 23,
   "id": "d10b26ec",
   "metadata": {},
   "outputs": [],
   "source": [
    "model=Sequential()\n",
    "model.add(LSTM(50,return_sequences=True,input_shape=(100,1)))\n",
    "model.add(LSTM(50,return_sequences=True))\n",
    "model.add(LSTM(50))\n",
    "model.add(Dense(1))\n",
    "model.compile(loss='mean_squared_error',optimizer='adam')"
   ]
  },
  {
   "cell_type": "code",
   "execution_count": 24,
   "id": "8763d6e0",
   "metadata": {},
   "outputs": [
    {
     "name": "stdout",
     "output_type": "stream",
     "text": [
      "Model: \"sequential\"\n",
      "_________________________________________________________________\n",
      "Layer (type)                 Output Shape              Param #   \n",
      "=================================================================\n",
      "lstm (LSTM)                  (None, 100, 50)           10400     \n",
      "_________________________________________________________________\n",
      "lstm_1 (LSTM)                (None, 100, 50)           20200     \n",
      "_________________________________________________________________\n",
      "lstm_2 (LSTM)                (None, 50)                20200     \n",
      "_________________________________________________________________\n",
      "dense (Dense)                (None, 1)                 51        \n",
      "=================================================================\n",
      "Total params: 50,851\n",
      "Trainable params: 50,851\n",
      "Non-trainable params: 0\n",
      "_________________________________________________________________\n"
     ]
    }
   ],
   "source": [
    "model.summary()"
   ]
  },
  {
   "cell_type": "code",
   "execution_count": 26,
   "id": "2aa04857",
   "metadata": {},
   "outputs": [
    {
     "name": "stdout",
     "output_type": "stream",
     "text": [
      "Epoch 1/100\n",
      "23/23 [==============================] - 19s 475ms/step - loss: 0.0256 - val_loss: 0.0076\n",
      "Epoch 2/100\n",
      "23/23 [==============================] - 10s 422ms/step - loss: 0.0026 - val_loss: 7.7669e-04\n",
      "Epoch 3/100\n",
      "23/23 [==============================] - 9s 412ms/step - loss: 0.0017 - val_loss: 0.0015\n",
      "Epoch 4/100\n",
      "23/23 [==============================] - 9s 385ms/step - loss: 0.0015 - val_loss: 0.0011\n",
      "Epoch 5/100\n",
      "23/23 [==============================] - 7s 311ms/step - loss: 0.0014 - val_loss: 0.0012\n",
      "Epoch 6/100\n",
      "23/23 [==============================] - 6s 273ms/step - loss: 0.0014 - val_loss: 9.6147e-04\n",
      "Epoch 7/100\n",
      "23/23 [==============================] - 6s 264ms/step - loss: 0.0013 - val_loss: 0.0013\n",
      "Epoch 8/100\n",
      "23/23 [==============================] - 7s 284ms/step - loss: 0.0012 - val_loss: 0.0012\n",
      "Epoch 9/100\n",
      "23/23 [==============================] - 6s 274ms/step - loss: 0.0014 - val_loss: 8.1171e-04\n",
      "Epoch 10/100\n",
      "23/23 [==============================] - 7s 293ms/step - loss: 0.0012 - val_loss: 0.0010\n",
      "Epoch 11/100\n",
      "23/23 [==============================] - 8s 330ms/step - loss: 0.0010 - val_loss: 0.0011\n",
      "Epoch 12/100\n",
      "23/23 [==============================] - 8s 341ms/step - loss: 9.9073e-04 - val_loss: 0.0011\n",
      "Epoch 13/100\n",
      "23/23 [==============================] - 8s 326ms/step - loss: 8.9476e-04 - val_loss: 8.7300e-04\n",
      "Epoch 14/100\n",
      "23/23 [==============================] - 7s 306ms/step - loss: 8.9289e-04 - val_loss: 7.9235e-04\n",
      "Epoch 15/100\n",
      "23/23 [==============================] - 8s 342ms/step - loss: 8.7232e-04 - val_loss: 9.0546e-04\n",
      "Epoch 16/100\n",
      "23/23 [==============================] - 7s 322ms/step - loss: 8.7778e-04 - val_loss: 8.8251e-04\n",
      "Epoch 17/100\n",
      "23/23 [==============================] - 7s 303ms/step - loss: 8.6923e-04 - val_loss: 6.6235e-04\n",
      "Epoch 18/100\n",
      "23/23 [==============================] - 7s 294ms/step - loss: 8.4621e-04 - val_loss: 9.6727e-04\n",
      "Epoch 19/100\n",
      "23/23 [==============================] - 8s 330ms/step - loss: 7.6021e-04 - val_loss: 8.7066e-04\n",
      "Epoch 20/100\n",
      "23/23 [==============================] - 8s 342ms/step - loss: 7.8920e-04 - val_loss: 9.4813e-04\n",
      "Epoch 21/100\n",
      "23/23 [==============================] - 8s 338ms/step - loss: 7.2636e-04 - val_loss: 8.2627e-04\n",
      "Epoch 22/100\n",
      "23/23 [==============================] - 7s 322ms/step - loss: 7.6008e-04 - val_loss: 8.6774e-04\n",
      "Epoch 23/100\n",
      "23/23 [==============================] - 8s 341ms/step - loss: 6.9424e-04 - val_loss: 7.3635e-04\n",
      "Epoch 24/100\n",
      "23/23 [==============================] - 8s 342ms/step - loss: 7.2889e-04 - val_loss: 8.8993e-04\n",
      "Epoch 25/100\n",
      "23/23 [==============================] - 8s 339ms/step - loss: 7.0323e-04 - val_loss: 9.5144e-04\n",
      "Epoch 26/100\n",
      "23/23 [==============================] - 8s 339ms/step - loss: 7.1364e-04 - val_loss: 7.7516e-04\n",
      "Epoch 27/100\n",
      "23/23 [==============================] - 7s 309ms/step - loss: 7.2218e-04 - val_loss: 8.0966e-04\n",
      "Epoch 28/100\n",
      "23/23 [==============================] - 8s 343ms/step - loss: 6.2712e-04 - val_loss: 6.3401e-04\n",
      "Epoch 29/100\n",
      "23/23 [==============================] - 9s 374ms/step - loss: 6.1774e-04 - val_loss: 9.2182e-04\n",
      "Epoch 30/100\n",
      "23/23 [==============================] - 8s 350ms/step - loss: 6.4116e-04 - val_loss: 8.2167e-04\n",
      "Epoch 31/100\n",
      "23/23 [==============================] - 8s 341ms/step - loss: 6.5255e-04 - val_loss: 9.1390e-04\n",
      "Epoch 32/100\n",
      "23/23 [==============================] - 7s 317ms/step - loss: 6.0908e-04 - val_loss: 8.5031e-04\n",
      "Epoch 33/100\n",
      "23/23 [==============================] - 8s 334ms/step - loss: 6.0816e-04 - val_loss: 7.0689e-04\n",
      "Epoch 34/100\n",
      "23/23 [==============================] - 8s 346ms/step - loss: 5.7996e-04 - val_loss: 9.5059e-04\n",
      "Epoch 35/100\n",
      "23/23 [==============================] - 7s 324ms/step - loss: 7.4260e-04 - val_loss: 7.1287e-04\n",
      "Epoch 36/100\n",
      "23/23 [==============================] - 7s 306ms/step - loss: 5.7362e-04 - val_loss: 5.7445e-04\n",
      "Epoch 37/100\n",
      "23/23 [==============================] - 7s 303ms/step - loss: 5.3307e-04 - val_loss: 4.5066e-04\n",
      "Epoch 38/100\n",
      "23/23 [==============================] - 6s 265ms/step - loss: 5.3609e-04 - val_loss: 6.1945e-04\n",
      "Epoch 39/100\n",
      "23/23 [==============================] - 5s 219ms/step - loss: 5.3859e-04 - val_loss: 5.5499e-04\n",
      "Epoch 40/100\n",
      "23/23 [==============================] - 4s 192ms/step - loss: 5.7554e-04 - val_loss: 5.4452e-04\n",
      "Epoch 41/100\n",
      "23/23 [==============================] - 5s 205ms/step - loss: 5.0364e-04 - val_loss: 6.7995e-04\n",
      "Epoch 42/100\n",
      "23/23 [==============================] - 4s 159ms/step - loss: 5.4581e-04 - val_loss: 5.3791e-04\n",
      "Epoch 43/100\n",
      "23/23 [==============================] - 3s 151ms/step - loss: 4.8110e-04 - val_loss: 5.6618e-04\n",
      "Epoch 44/100\n",
      "23/23 [==============================] - 3s 145ms/step - loss: 4.8126e-04 - val_loss: 6.8641e-04\n",
      "Epoch 45/100\n",
      "23/23 [==============================] - 4s 164ms/step - loss: 5.5041e-04 - val_loss: 6.2550e-04\n",
      "Epoch 46/100\n",
      "23/23 [==============================] - 4s 154ms/step - loss: 4.7888e-04 - val_loss: 6.3694e-04\n",
      "Epoch 47/100\n",
      "23/23 [==============================] - 3s 150ms/step - loss: 5.1657e-04 - val_loss: 5.7842e-04\n",
      "Epoch 48/100\n",
      "23/23 [==============================] - 3s 143ms/step - loss: 4.8958e-04 - val_loss: 4.3397e-04\n",
      "Epoch 49/100\n",
      "23/23 [==============================] - 3s 148ms/step - loss: 5.0251e-04 - val_loss: 3.6639e-04\n",
      "Epoch 50/100\n",
      "23/23 [==============================] - 4s 166ms/step - loss: 4.1737e-04 - val_loss: 4.7155e-04\n",
      "Epoch 51/100\n",
      "23/23 [==============================] - 4s 159ms/step - loss: 4.0192e-04 - val_loss: 4.0711e-04\n",
      "Epoch 52/100\n",
      "23/23 [==============================] - 3s 148ms/step - loss: 3.8285e-04 - val_loss: 4.0396e-04\n",
      "Epoch 53/100\n",
      "23/23 [==============================] - 3s 142ms/step - loss: 3.9909e-04 - val_loss: 3.3756e-04\n",
      "Epoch 54/100\n",
      "23/23 [==============================] - 3s 134ms/step - loss: 4.0709e-04 - val_loss: 2.8939e-04\n",
      "Epoch 55/100\n",
      "23/23 [==============================] - 3s 143ms/step - loss: 4.7161e-04 - val_loss: 5.5345e-04\n",
      "Epoch 56/100\n",
      "23/23 [==============================] - 3s 148ms/step - loss: 3.7337e-04 - val_loss: 3.5820e-04\n",
      "Epoch 57/100\n",
      "23/23 [==============================] - 3s 142ms/step - loss: 4.8022e-04 - val_loss: 4.0319e-04\n",
      "Epoch 58/100\n",
      "23/23 [==============================] - 4s 151ms/step - loss: 3.4791e-04 - val_loss: 4.3748e-04\n",
      "Epoch 59/100\n",
      "23/23 [==============================] - 3s 143ms/step - loss: 3.4196e-04 - val_loss: 4.1278e-04\n",
      "Epoch 60/100\n",
      "23/23 [==============================] - 3s 141ms/step - loss: 3.3039e-04 - val_loss: 4.9357e-04\n",
      "Epoch 61/100\n",
      "23/23 [==============================] - 4s 162ms/step - loss: 3.7837e-04 - val_loss: 3.7412e-04\n",
      "Epoch 62/100\n",
      "23/23 [==============================] - 4s 163ms/step - loss: 3.4759e-04 - val_loss: 3.2893e-04\n",
      "Epoch 63/100\n",
      "23/23 [==============================] - 3s 144ms/step - loss: 3.3533e-04 - val_loss: 5.5275e-04\n",
      "Epoch 64/100\n",
      "23/23 [==============================] - 3s 140ms/step - loss: 4.6082e-04 - val_loss: 2.7595e-04\n",
      "Epoch 65/100\n",
      "23/23 [==============================] - 4s 151ms/step - loss: 3.3499e-04 - val_loss: 3.2850e-04\n",
      "Epoch 66/100\n",
      "23/23 [==============================] - 4s 154ms/step - loss: 3.0136e-04 - val_loss: 3.7045e-04\n",
      "Epoch 67/100\n",
      "23/23 [==============================] - 4s 162ms/step - loss: 3.1476e-04 - val_loss: 3.5511e-04\n",
      "Epoch 68/100\n",
      "23/23 [==============================] - 3s 147ms/step - loss: 2.9050e-04 - val_loss: 3.8347e-04\n",
      "Epoch 69/100\n",
      "23/23 [==============================] - 4s 161ms/step - loss: 3.1608e-04 - val_loss: 2.7206e-04\n",
      "Epoch 70/100\n",
      "23/23 [==============================] - 4s 161ms/step - loss: 3.1741e-04 - val_loss: 2.4496e-04\n",
      "Epoch 71/100\n",
      "23/23 [==============================] - 4s 157ms/step - loss: 3.0627e-04 - val_loss: 2.5498e-04\n",
      "Epoch 72/100\n",
      "23/23 [==============================] - 4s 166ms/step - loss: 3.1306e-04 - val_loss: 2.9826e-04\n",
      "Epoch 73/100\n",
      "23/23 [==============================] - 4s 151ms/step - loss: 2.9436e-04 - val_loss: 2.6372e-04\n",
      "Epoch 74/100\n",
      "23/23 [==============================] - 4s 161ms/step - loss: 3.1103e-04 - val_loss: 4.9167e-04\n",
      "Epoch 75/100\n",
      "23/23 [==============================] - 3s 138ms/step - loss: 3.1991e-04 - val_loss: 2.8720e-04\n",
      "Epoch 76/100\n",
      "23/23 [==============================] - 4s 152ms/step - loss: 3.0090e-04 - val_loss: 5.8578e-04\n",
      "Epoch 77/100\n",
      "23/23 [==============================] - 3s 140ms/step - loss: 4.4454e-04 - val_loss: 2.9777e-04\n",
      "Epoch 78/100\n",
      "23/23 [==============================] - 3s 141ms/step - loss: 2.7538e-04 - val_loss: 2.5583e-04\n",
      "Epoch 79/100\n",
      "23/23 [==============================] - 3s 144ms/step - loss: 2.6382e-04 - val_loss: 2.9104e-04\n",
      "Epoch 80/100\n",
      "23/23 [==============================] - 4s 167ms/step - loss: 2.6775e-04 - val_loss: 3.5047e-04\n",
      "Epoch 81/100\n",
      "23/23 [==============================] - 4s 159ms/step - loss: 3.1137e-04 - val_loss: 3.0686e-04\n",
      "Epoch 82/100\n",
      "23/23 [==============================] - 3s 151ms/step - loss: 3.1955e-04 - val_loss: 3.1199e-04\n",
      "Epoch 83/100\n",
      "23/23 [==============================] - 4s 159ms/step - loss: 2.7901e-04 - val_loss: 2.4176e-04\n",
      "Epoch 84/100\n",
      "23/23 [==============================] - 4s 175ms/step - loss: 2.8479e-04 - val_loss: 2.2820e-04\n",
      "Epoch 85/100\n",
      "23/23 [==============================] - 4s 159ms/step - loss: 2.7054e-04 - val_loss: 2.6534e-04\n",
      "Epoch 86/100\n",
      "23/23 [==============================] - 4s 158ms/step - loss: 2.6075e-04 - val_loss: 3.1787e-04\n",
      "Epoch 87/100\n",
      "23/23 [==============================] - 3s 145ms/step - loss: 2.6673e-04 - val_loss: 3.0493e-04\n",
      "Epoch 88/100\n",
      "23/23 [==============================] - 4s 161ms/step - loss: 2.4663e-04 - val_loss: 2.6373e-04\n",
      "Epoch 89/100\n",
      "23/23 [==============================] - 3s 150ms/step - loss: 2.5225e-04 - val_loss: 2.3542e-04\n",
      "Epoch 90/100\n",
      "23/23 [==============================] - 4s 158ms/step - loss: 3.2683e-04 - val_loss: 3.2552e-04\n",
      "Epoch 91/100\n",
      "23/23 [==============================] - 3s 144ms/step - loss: 2.4237e-04 - val_loss: 2.7962e-04\n",
      "Epoch 92/100\n",
      "23/23 [==============================] - 3s 140ms/step - loss: 2.8879e-04 - val_loss: 2.1340e-04\n",
      "Epoch 93/100\n",
      "23/23 [==============================] - 3s 145ms/step - loss: 2.7024e-04 - val_loss: 2.3554e-04\n",
      "Epoch 94/100\n",
      "23/23 [==============================] - 4s 153ms/step - loss: 2.4021e-04 - val_loss: 2.4532e-04\n",
      "Epoch 95/100\n",
      "23/23 [==============================] - 3s 152ms/step - loss: 2.5425e-04 - val_loss: 2.8859e-04\n",
      "Epoch 96/100\n",
      "23/23 [==============================] - 3s 146ms/step - loss: 2.5797e-04 - val_loss: 2.6542e-04\n",
      "Epoch 97/100\n",
      "23/23 [==============================] - 4s 173ms/step - loss: 2.4788e-04 - val_loss: 3.3112e-04\n",
      "Epoch 98/100\n",
      "23/23 [==============================] - 5s 232ms/step - loss: 2.8718e-04 - val_loss: 2.4939e-04\n",
      "Epoch 99/100\n",
      "23/23 [==============================] - 5s 231ms/step - loss: 2.5109e-04 - val_loss: 2.6161e-04\n",
      "Epoch 100/100\n",
      "23/23 [==============================] - 4s 164ms/step - loss: 2.5365e-04 - val_loss: 2.1367e-04\n"
     ]
    },
    {
     "data": {
      "text/plain": [
       "<keras.callbacks.History at 0x2d429209d60>"
      ]
     },
     "execution_count": 26,
     "metadata": {},
     "output_type": "execute_result"
    }
   ],
   "source": [
    "model.fit(X_train,y_train,validation_data=(X_test,ytest),epochs=100,batch_size=64,verbose=1)"
   ]
  },
  {
   "cell_type": "code",
   "execution_count": 27,
   "id": "6cb8e836",
   "metadata": {},
   "outputs": [],
   "source": [
    "import tensorflow as tf"
   ]
  },
  {
   "cell_type": "code",
   "execution_count": 28,
   "id": "d4a0f985",
   "metadata": {},
   "outputs": [
    {
     "data": {
      "text/plain": [
       "'2.6.0'"
      ]
     },
     "execution_count": 28,
     "metadata": {},
     "output_type": "execute_result"
    }
   ],
   "source": [
    "tf.__version__"
   ]
  },
  {
   "cell_type": "markdown",
   "id": "f4bde2dc",
   "metadata": {},
   "source": [
    "## Lets Do the prediction and check performance metrics"
   ]
  },
  {
   "cell_type": "code",
   "execution_count": 29,
   "id": "41bbd3d8",
   "metadata": {},
   "outputs": [],
   "source": [
    "train_predict=model.predict(X_train)\n",
    "test_predict=model.predict(X_test)"
   ]
  },
  {
   "cell_type": "code",
   "execution_count": 30,
   "id": "753afef0",
   "metadata": {},
   "outputs": [],
   "source": [
    "train_predict=scaler.inverse_transform(train_predict)\n",
    "test_predict=scaler.inverse_transform(test_predict)"
   ]
  },
  {
   "cell_type": "markdown",
   "id": "7f6009ee",
   "metadata": {},
   "source": [
    "## Calculate RMSE performance metrics"
   ]
  },
  {
   "cell_type": "code",
   "execution_count": 31,
   "id": "c4e40664",
   "metadata": {},
   "outputs": [
    {
     "data": {
      "text/plain": [
       "161.9589607494282"
      ]
     },
     "execution_count": 31,
     "metadata": {},
     "output_type": "execute_result"
    }
   ],
   "source": [
    "import math\n",
    "from sklearn.metrics import mean_squared_error\n",
    "math.sqrt(mean_squared_error(y_train,train_predict))"
   ]
  },
  {
   "cell_type": "markdown",
   "id": "f7e5fc3e",
   "metadata": {},
   "source": [
    "### Test Data RMSE"
   ]
  },
  {
   "cell_type": "code",
   "execution_count": 32,
   "id": "be874edb",
   "metadata": {},
   "outputs": [
    {
     "data": {
      "text/plain": [
       "105.99153423414806"
      ]
     },
     "execution_count": 32,
     "metadata": {},
     "output_type": "execute_result"
    }
   ],
   "source": [
    "math.sqrt(mean_squared_error(ytest,test_predict))"
   ]
  },
  {
   "cell_type": "markdown",
   "id": "fb95543c",
   "metadata": {},
   "source": [
    "### shift train predictions for plotting "
   ]
  },
  {
   "cell_type": "code",
   "execution_count": 33,
   "id": "0825602e",
   "metadata": {},
   "outputs": [],
   "source": [
    "look_back=100\n",
    "trainPredictPlot = numpy.empty_like(df1)\n",
    "trainPredictPlot[:, :] = np.nan\n",
    "trainPredictPlot[look_back:len(train_predict)+look_back, :] = train_predict"
   ]
  },
  {
   "cell_type": "markdown",
   "id": "2552f5da",
   "metadata": {},
   "source": [
    "### shift test predictions for plotting"
   ]
  },
  {
   "cell_type": "code",
   "execution_count": 34,
   "id": "b65d0bd0",
   "metadata": {},
   "outputs": [],
   "source": [
    "testPredictPlot = numpy.empty_like(df1)\n",
    "testPredictPlot[:, :] = numpy.nan\n",
    "testPredictPlot[len(train_predict)+(look_back*2)+1:len(df1)-1, :] = test_predict"
   ]
  },
  {
   "cell_type": "markdown",
   "id": "34836e97",
   "metadata": {},
   "source": [
    "### plot baseline and predictions"
   ]
  },
  {
   "cell_type": "code",
   "execution_count": 54,
   "id": "af3d951e",
   "metadata": {},
   "outputs": [
    {
     "data": {
      "image/png": "[encoded data removed]",
      "text/plain": [
       "<Figure size 1440x360 with 1 Axes>"
      ]
     },
     "metadata": {},
     "output_type": "display_data"
    }
   ],
   "source": [
    "plt.plot(scaler.inverse_transform(df1),color='blue')\n",
    "plt.show()"
   ]
  },
  {
   "cell_type": "code",
   "execution_count": 52,
   "id": "7c9f8687",
   "metadata": {},
   "outputs": [
    {
     "data": {
      "image/png": "[encoded data removed]",
      "text/plain": [
       "<Figure size 1440x360 with 1 Axes>"
      ]
     },
     "metadata": {},
     "output_type": "display_data"
    },
    {
     "data": {
      "image/png": "[encoded data removed]",
      "text/plain": [
       "<Figure size 1440x360 with 1 Axes>"
      ]
     },
     "metadata": {},
     "output_type": "display_data"
    }
   ],
   "source": [
    "plt.plot(trainPredictPlot,color='red')\n",
    "plt.show()\n",
    "plt.plot(testPredictPlot,color='green')\n",
    "plt.show()"
   ]
  },
  {
   "cell_type": "code",
   "execution_count": 51,
   "id": "896e6b6f",
   "metadata": {},
   "outputs": [
    {
     "data": {
      "image/png": "[encoded data removed]",
      "text/plain": [
       "<Figure size 1440x360 with 1 Axes>"
      ]
     },
     "metadata": {},
     "output_type": "display_data"
    }
   ],
   "source": [
    "plt.plot(trainPredictPlot,color='red')\n",
    "plt.plot(testPredictPlot,color='green')\n",
    "plt.show()"
   ]
  },
  {
   "cell_type": "code",
   "execution_count": 55,
   "id": "42072e22",
   "metadata": {},
   "outputs": [
    {
     "data": {
      "image/png": "[encoded data removed]",
      "text/plain": [
       "<Figure size 1440x360 with 1 Axes>"
      ]
     },
     "metadata": {},
     "output_type": "display_data"
    }
   ],
   "source": [
    "plt.plot(scaler.inverse_transform(df1),color='blue')\n",
    "plt.plot(trainPredictPlot,color='red')\n",
    "plt.plot(testPredictPlot,color='green')\n",
    "plt.show()"
   ]
  },
  {
   "cell_type": "code",
   "execution_count": 46,
   "id": "cf355388",
   "metadata": {},
   "outputs": [
    {
     "data": {
      "text/plain": [
       "509"
      ]
     },
     "execution_count": 46,
     "metadata": {},
     "output_type": "execute_result"
    }
   ],
   "source": [
    "len(test_data)"
   ]
  },
  {
   "cell_type": "code",
   "execution_count": 47,
   "id": "a3d24749",
   "metadata": {},
   "outputs": [
    {
     "data": {
      "text/plain": [
       "(1, 168)"
      ]
     },
     "execution_count": 47,
     "metadata": {},
     "output_type": "execute_result"
    }
   ],
   "source": [
    "x_input=test_data[341:].reshape(1,-1)\n",
    "x_input.shape"
   ]
  },
  {
   "cell_type": "code",
   "execution_count": 59,
   "id": "760edacf",
   "metadata": {},
   "outputs": [],
   "source": [
    "model.save(\"saved_model.h5\")"
   ]
  },
  {
   "cell_type": "code",
   "execution_count": null,
   "id": "d2e54472",
   "metadata": {},
   "outputs": [],
   "source": []
  }
 ],
 "metadata": {
  "kernelspec": {
   "display_name": "Python 3",
   "language": "python",
   "name": "python3"
  },
  "language_info": {
   "codemirror_mode": {
    "name": "ipython",
    "version": 3
   },
   "file_extension": ".py",
   "mimetype": "text/x-python",
   "name": "python",
   "nbconvert_exporter": "python",
   "pygments_lexer": "ipython3",
   "version": "3.8.8"
  }
 },
 "nbformat": 4,
 "nbformat_minor": 5
}
